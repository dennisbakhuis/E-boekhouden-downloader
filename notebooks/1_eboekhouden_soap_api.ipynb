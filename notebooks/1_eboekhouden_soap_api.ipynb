{
 "cells": [
  {
   "cell_type": "markdown",
   "id": "cdc04f13-05c8-4729-93af-6925159a63ae",
   "metadata": {},
   "source": [
    "# E-boekhouden"
   ]
  },
  {
   "cell_type": "code",
   "execution_count": null,
   "id": "7f2682c6-ffc6-4481-85c9-a2cdb72cb32b",
   "metadata": {
    "tags": []
   },
   "outputs": [],
   "source": [
    "import os\n",
    "from dataclasses import dataclass\n",
    "\n",
    "from zeep import Client\n",
    "from zeep.helpers import serialize_object\n",
    "import pandas as pd"
   ]
  },
  {
   "cell_type": "markdown",
   "id": "d11e1677-ecd7-473d-aad0-fef47777d140",
   "metadata": {},
   "source": [
    "### Required credentials:"
   ]
  },
  {
   "cell_type": "code",
   "execution_count": null,
   "id": "2dc13d2f-2c67-4a71-a741-2be728a48874",
   "metadata": {
    "tags": []
   },
   "outputs": [],
   "source": [
    "server_url = \"https://soap.e-boekhouden.nl/soap.asmx?wsdl\""
   ]
  },
  {
   "cell_type": "code",
   "execution_count": null,
   "id": "0a43d752-732c-40e1-a80c-76ecc9e57021",
   "metadata": {
    "tags": []
   },
   "outputs": [],
   "source": [
    "username = \"<your_username_here>\"\n",
    "security_code_1 = \"<your_security_code_1_here>\"\n",
    "security_code_2 = \"<your_security_code_1_here>\"\n",
    "\n",
    "username = os.environ.get(\"EBOEKHOUDEN_USERNAME\")\n",
    "security_code_1 = os.environ.get(\"EBOEKHOUDEN_SECURITY1\")\n",
    "security_code_2 = os.environ.get(\"EBOEKHOUDEN_SECURITY2\")"
   ]
  },
  {
   "cell_type": "code",
   "execution_count": null,
   "id": "a0cbc552-9346-4da8-8f9a-1557fbf4c33b",
   "metadata": {},
   "outputs": [],
   "source": []
  },
  {
   "cell_type": "code",
   "execution_count": null,
   "id": "52e51259-9387-4c98-82e5-5efdf0db4409",
   "metadata": {},
   "outputs": [],
   "source": []
  },
  {
   "cell_type": "markdown",
   "id": "ab1f70f9-de2c-4db5-8d07-1da2beaa6679",
   "metadata": {},
   "source": [
    "### Create session"
   ]
  },
  {
   "cell_type": "code",
   "execution_count": null,
   "id": "b83b6ad0-fa40-4325-82eb-15b85d58ac79",
   "metadata": {},
   "outputs": [],
   "source": [
    "client = Client(server_url)"
   ]
  },
  {
   "cell_type": "code",
   "execution_count": null,
   "id": "5062efa5-9f9b-448b-ae6c-3cc63f3ba837",
   "metadata": {
    "tags": []
   },
   "outputs": [],
   "source": [
    "response_object = client.service.OpenSession(\n",
    "    Username=username,\n",
    "    SecurityCode1=security_code_1,\n",
    "    SecurityCode2=security_code_2,\n",
    ")\n",
    "session_id = response_object.SessionID\n",
    "print(session_id)"
   ]
  },
  {
   "cell_type": "code",
   "execution_count": null,
   "id": "2ffe1e92-04f9-4543-acef-9dba61eeb441",
   "metadata": {},
   "outputs": [],
   "source": []
  },
  {
   "cell_type": "code",
   "execution_count": null,
   "id": "be7fcb0f-1a75-4a59-9765-5f7237b52362",
   "metadata": {},
   "outputs": [],
   "source": []
  },
  {
   "cell_type": "markdown",
   "id": "81a1fbd7-54bf-4391-bf7a-fea0ee8d42f2",
   "metadata": {},
   "source": [
    "### Mutaties"
   ]
  },
  {
   "cell_type": "code",
   "execution_count": null,
   "id": "632b6ec1-0c80-4e03-9bcd-66a879a8f59c",
   "metadata": {
    "tags": []
   },
   "outputs": [],
   "source": [
    "@dataclass\n",
    "class Mutaties:\n",
    "    mutatienr: int\n",
    "    mutatienrvan: int\n",
    "    mutatienrtm: int\n",
    "    factuurnummer: str\n",
    "    datumvan: str\n",
    "    datumtm: str\n",
    "\n",
    "    def export(self):\n",
    "        return dict(\n",
    "            MutatieNr=self.mutatienr,\n",
    "            MutatieNrVan=self.mutatienrvan,\n",
    "            MutatieNrTm=self.mutatienrtm,\n",
    "            Factuurnummer=self.factuurnummer,\n",
    "            DatumVan=self.datumvan,\n",
    "            DatumTm=self.datumtm,\n",
    "        )"
   ]
  },
  {
   "cell_type": "code",
   "execution_count": null,
   "id": "796b76c5-e47a-4e19-a2ab-a3663d32331a",
   "metadata": {},
   "outputs": [],
   "source": [
    "mutatie_filter = Mutaties(\n",
    "    0, \n",
    "    0, \n",
    "    99999, \n",
    "    \"\", \n",
    "    \"2022-01-01\", \n",
    "    \"2023-03-31\",\n",
    ").export()"
   ]
  },
  {
   "cell_type": "code",
   "execution_count": null,
   "id": "aa4ae397-d825-4a86-a1f6-4c325db42c3a",
   "metadata": {},
   "outputs": [],
   "source": [
    "mutaties = client.service.GetMutaties(\n",
    "    SessionID=session_id, \n",
    "    SecurityCode2=security_code_2, \n",
    "    cFilter=mutatie_filter,\n",
    ")"
   ]
  },
  {
   "cell_type": "code",
   "execution_count": null,
   "id": "4d079906-6ba7-46b3-b6c0-0c169eee81e2",
   "metadata": {
    "tags": []
   },
   "outputs": [],
   "source": [
    "rows = []\n",
    "for mutatie in mutaties.Mutaties.cMutatieList:\n",
    "    flat_mutatie = dict(serialize_object(mutatie))\n",
    "    del flat_mutatie['MutatieRegels']\n",
    "    for regel in mutatie['MutatieRegels']['cMutatieListRegel']:\n",
    "        flat_regel = dict(serialize_object(regel))\n",
    "        new_mutatie = flat_mutatie.copy() | flat_regel\n",
    "        rows.append(new_mutatie)"
   ]
  },
  {
   "cell_type": "code",
   "execution_count": null,
   "id": "231b4e60-d7d4-48da-a082-e6cf571ca5f1",
   "metadata": {
    "tags": []
   },
   "outputs": [],
   "source": [
    "df = pd.DataFrame(rows)"
   ]
  },
  {
   "cell_type": "code",
   "execution_count": null,
   "id": "0605db91-c369-493c-8231-3ce4ff8a1779",
   "metadata": {
    "tags": []
   },
   "outputs": [],
   "source": [
    "df.to_csv('mutaties.csv')"
   ]
  },
  {
   "cell_type": "code",
   "execution_count": null,
   "id": "f9076ee4-14eb-4f59-a220-a425c87834c6",
   "metadata": {
    "tags": []
   },
   "outputs": [],
   "source": [
    "df"
   ]
  },
  {
   "cell_type": "code",
   "execution_count": null,
   "id": "aa861617-eeef-485c-b43c-eefe3fed0740",
   "metadata": {},
   "outputs": [],
   "source": []
  },
  {
   "cell_type": "code",
   "execution_count": null,
   "id": "79eff928-66e7-4602-b5c9-94aa8a0a5c9b",
   "metadata": {},
   "outputs": [],
   "source": []
  }
 ],
 "metadata": {
  "kernelspec": {
   "display_name": "Python 3 (ipykernel)",
   "language": "python",
   "name": "python3"
  },
  "language_info": {
   "codemirror_mode": {
    "name": "ipython",
    "version": 3
   },
   "file_extension": ".py",
   "mimetype": "text/x-python",
   "name": "python",
   "nbconvert_exporter": "python",
   "pygments_lexer": "ipython3",
   "version": "3.10.9"
  }
 },
 "nbformat": 4,
 "nbformat_minor": 5
}
